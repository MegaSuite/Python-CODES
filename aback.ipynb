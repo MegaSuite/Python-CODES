{
 "cells": [
  {
   "cell_type": "code",
   "execution_count": 20,
   "metadata": {},
   "outputs": [
    {
     "name": "stdout",
     "output_type": "stream",
     "text": [
      "('s', 'h', 'i', 'e', 'p') {'i', 'p', 'h', 's'} ['s', 'h', 'i', 'p']\n"
     ]
    },
    {
     "data": {
      "text/plain": [
       "{'c': 99, 'o': 99, ';': 99, 'd': 99, 'e': 99}"
      ]
     },
     "execution_count": 20,
     "metadata": {},
     "output_type": "execute_result"
    }
   ],
   "source": [
    "print(tuple(\"shiep\"),\n",
    "set(\"ship\"),\n",
    "list(\"ship\"))\n",
    "dict.fromkeys(\"co;de\",99)"
   ]
  },
  {
   "cell_type": "code",
   "execution_count": 8,
   "metadata": {},
   "outputs": [
    {
     "name": "stdout",
     "output_type": "stream",
     "text": [
      "65\n"
     ]
    }
   ],
   "source": [
    "def add(func):\n",
    "    def inner():\n",
    "        x = func()\n",
    "        return x+1\n",
    "    return inner\n",
    "\n",
    "def cube(func):\n",
    "    def inner():\n",
    "        x=func()\n",
    "        return x**3\n",
    "    return inner\n",
    "def square(func):\n",
    "    def inner():\n",
    "        x=func()\n",
    "        return x**2\n",
    "    return inner\n",
    "\n",
    "@add\n",
    "@cube\n",
    "@square\n",
    "def test():\n",
    "    return 2\n",
    "print(test())\n"
   ]
  }
 ],
 "metadata": {
  "kernelspec": {
   "display_name": "Python 3",
   "language": "python",
   "name": "python3"
  },
  "language_info": {
   "codemirror_mode": {
    "name": "ipython",
    "version": 3
   },
   "file_extension": ".py",
   "mimetype": "text/x-python",
   "name": "python",
   "nbconvert_exporter": "python",
   "pygments_lexer": "ipython3",
   "version": "3.10.7 (tags/v3.10.7:6cc6b13, Sep  5 2022, 14:08:36) [MSC v.1933 64 bit (AMD64)]"
  },
  "orig_nbformat": 4,
  "vscode": {
   "interpreter": {
    "hash": "2469a70536e4d2335a2ea8907942d0699c37342a371ac185bdb5b0aa6f073890"
   }
  }
 },
 "nbformat": 4,
 "nbformat_minor": 2
}
